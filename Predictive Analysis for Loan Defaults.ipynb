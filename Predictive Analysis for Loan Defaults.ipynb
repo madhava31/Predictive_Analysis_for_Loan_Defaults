{
  "nbformat": 4,
  "nbformat_minor": 0,
  "metadata": {
    "colab": {
      "provenance": []
    },
    "kernelspec": {
      "name": "python3",
      "display_name": "Python 3"
    },
    "language_info": {
      "name": "python"
    }
  },
  "cells": [
    {
      "cell_type": "code",
      "execution_count": 4,
      "metadata": {
        "id": "jtrHU4e__wI3"
      },
      "outputs": [],
      "source": [
        "import zipfile\n",
        "import pandas as pd\n",
        "import numpy as np\n",
        "from sklearn.ensemble import RandomForestClassifier\n",
        "from sklearn.preprocessing import StandardScaler, OneHotEncoder, PolynomialFeatures\n",
        "from sklearn.model_selection import cross_val_score, GridSearchCV, train_test_split\n",
        "from sklearn.pipeline import Pipeline as pipeline\n",
        "from sklearn.compose import ColumnTransformer\n",
        "from sklearn.metrics import accuracy_score, make_scorer\n",
        "from imblearn.over_sampling import RandomOverSampler, SMOTE\n",
        "from imblearn.under_sampling import RandomUnderSampler"
      ]
    },
    {
      "cell_type": "code",
      "source": [
        "Data = pd.read_csv('/content/Loan_default.csv')\n",
        "\n",
        "Data.head()"
      ],
      "metadata": {
        "colab": {
          "base_uri": "https://localhost:8080/",
          "height": 243
        },
        "id": "7W2sCcyA_zD6",
        "outputId": "442b505b-2b82-4c25-cb25-ed8b7dc5ae6b"
      },
      "execution_count": 5,
      "outputs": [
        {
          "output_type": "execute_result",
          "data": {
            "text/plain": [
              "       LoanID  Age  Income  LoanAmount  CreditScore  MonthsEmployed  \\\n",
              "0  I38PQUQS96   56   85994       50587          520              80   \n",
              "1  HPSK72WA7R   69   50432      124440          458              15   \n",
              "2  C1OZ6DPJ8Y   46   84208      129188          451              26   \n",
              "3  V2KKSFM3UN   32   31713       44799          743               0   \n",
              "4  EY08JDHTZP   60   20437        9139          633               8   \n",
              "\n",
              "   NumCreditLines  InterestRate  LoanTerm  DTIRatio    Education  \\\n",
              "0               4         15.23        36      0.44   Bachelor's   \n",
              "1               1          4.81        60      0.68     Master's   \n",
              "2               3         21.17        24      0.31     Master's   \n",
              "3               3          7.07        24      0.23  High School   \n",
              "4               4          6.51        48      0.73   Bachelor's   \n",
              "\n",
              "  EmploymentType MaritalStatus HasMortgage HasDependents LoanPurpose  \\\n",
              "0      Full-time      Divorced         Yes           Yes       Other   \n",
              "1      Full-time       Married          No            No       Other   \n",
              "2     Unemployed      Divorced         Yes           Yes        Auto   \n",
              "3      Full-time       Married          No            No    Business   \n",
              "4     Unemployed      Divorced          No           Yes        Auto   \n",
              "\n",
              "  HasCoSigner  Default  \n",
              "0         Yes      0.0  \n",
              "1         Yes      0.0  \n",
              "2          No      1.0  \n",
              "3          No      0.0  \n",
              "4          No      0.0  "
            ],
            "text/html": [
              "\n",
              "  <div id=\"df-1b5ab232-2512-4155-b38e-cc7df7ae7420\" class=\"colab-df-container\">\n",
              "    <div>\n",
              "<style scoped>\n",
              "    .dataframe tbody tr th:only-of-type {\n",
              "        vertical-align: middle;\n",
              "    }\n",
              "\n",
              "    .dataframe tbody tr th {\n",
              "        vertical-align: top;\n",
              "    }\n",
              "\n",
              "    .dataframe thead th {\n",
              "        text-align: right;\n",
              "    }\n",
              "</style>\n",
              "<table border=\"1\" class=\"dataframe\">\n",
              "  <thead>\n",
              "    <tr style=\"text-align: right;\">\n",
              "      <th></th>\n",
              "      <th>LoanID</th>\n",
              "      <th>Age</th>\n",
              "      <th>Income</th>\n",
              "      <th>LoanAmount</th>\n",
              "      <th>CreditScore</th>\n",
              "      <th>MonthsEmployed</th>\n",
              "      <th>NumCreditLines</th>\n",
              "      <th>InterestRate</th>\n",
              "      <th>LoanTerm</th>\n",
              "      <th>DTIRatio</th>\n",
              "      <th>Education</th>\n",
              "      <th>EmploymentType</th>\n",
              "      <th>MaritalStatus</th>\n",
              "      <th>HasMortgage</th>\n",
              "      <th>HasDependents</th>\n",
              "      <th>LoanPurpose</th>\n",
              "      <th>HasCoSigner</th>\n",
              "      <th>Default</th>\n",
              "    </tr>\n",
              "  </thead>\n",
              "  <tbody>\n",
              "    <tr>\n",
              "      <th>0</th>\n",
              "      <td>I38PQUQS96</td>\n",
              "      <td>56</td>\n",
              "      <td>85994</td>\n",
              "      <td>50587</td>\n",
              "      <td>520</td>\n",
              "      <td>80</td>\n",
              "      <td>4</td>\n",
              "      <td>15.23</td>\n",
              "      <td>36</td>\n",
              "      <td>0.44</td>\n",
              "      <td>Bachelor's</td>\n",
              "      <td>Full-time</td>\n",
              "      <td>Divorced</td>\n",
              "      <td>Yes</td>\n",
              "      <td>Yes</td>\n",
              "      <td>Other</td>\n",
              "      <td>Yes</td>\n",
              "      <td>0.0</td>\n",
              "    </tr>\n",
              "    <tr>\n",
              "      <th>1</th>\n",
              "      <td>HPSK72WA7R</td>\n",
              "      <td>69</td>\n",
              "      <td>50432</td>\n",
              "      <td>124440</td>\n",
              "      <td>458</td>\n",
              "      <td>15</td>\n",
              "      <td>1</td>\n",
              "      <td>4.81</td>\n",
              "      <td>60</td>\n",
              "      <td>0.68</td>\n",
              "      <td>Master's</td>\n",
              "      <td>Full-time</td>\n",
              "      <td>Married</td>\n",
              "      <td>No</td>\n",
              "      <td>No</td>\n",
              "      <td>Other</td>\n",
              "      <td>Yes</td>\n",
              "      <td>0.0</td>\n",
              "    </tr>\n",
              "    <tr>\n",
              "      <th>2</th>\n",
              "      <td>C1OZ6DPJ8Y</td>\n",
              "      <td>46</td>\n",
              "      <td>84208</td>\n",
              "      <td>129188</td>\n",
              "      <td>451</td>\n",
              "      <td>26</td>\n",
              "      <td>3</td>\n",
              "      <td>21.17</td>\n",
              "      <td>24</td>\n",
              "      <td>0.31</td>\n",
              "      <td>Master's</td>\n",
              "      <td>Unemployed</td>\n",
              "      <td>Divorced</td>\n",
              "      <td>Yes</td>\n",
              "      <td>Yes</td>\n",
              "      <td>Auto</td>\n",
              "      <td>No</td>\n",
              "      <td>1.0</td>\n",
              "    </tr>\n",
              "    <tr>\n",
              "      <th>3</th>\n",
              "      <td>V2KKSFM3UN</td>\n",
              "      <td>32</td>\n",
              "      <td>31713</td>\n",
              "      <td>44799</td>\n",
              "      <td>743</td>\n",
              "      <td>0</td>\n",
              "      <td>3</td>\n",
              "      <td>7.07</td>\n",
              "      <td>24</td>\n",
              "      <td>0.23</td>\n",
              "      <td>High School</td>\n",
              "      <td>Full-time</td>\n",
              "      <td>Married</td>\n",
              "      <td>No</td>\n",
              "      <td>No</td>\n",
              "      <td>Business</td>\n",
              "      <td>No</td>\n",
              "      <td>0.0</td>\n",
              "    </tr>\n",
              "    <tr>\n",
              "      <th>4</th>\n",
              "      <td>EY08JDHTZP</td>\n",
              "      <td>60</td>\n",
              "      <td>20437</td>\n",
              "      <td>9139</td>\n",
              "      <td>633</td>\n",
              "      <td>8</td>\n",
              "      <td>4</td>\n",
              "      <td>6.51</td>\n",
              "      <td>48</td>\n",
              "      <td>0.73</td>\n",
              "      <td>Bachelor's</td>\n",
              "      <td>Unemployed</td>\n",
              "      <td>Divorced</td>\n",
              "      <td>No</td>\n",
              "      <td>Yes</td>\n",
              "      <td>Auto</td>\n",
              "      <td>No</td>\n",
              "      <td>0.0</td>\n",
              "    </tr>\n",
              "  </tbody>\n",
              "</table>\n",
              "</div>\n",
              "    <div class=\"colab-df-buttons\">\n",
              "\n",
              "  <div class=\"colab-df-container\">\n",
              "    <button class=\"colab-df-convert\" onclick=\"convertToInteractive('df-1b5ab232-2512-4155-b38e-cc7df7ae7420')\"\n",
              "            title=\"Convert this dataframe to an interactive table.\"\n",
              "            style=\"display:none;\">\n",
              "\n",
              "  <svg xmlns=\"http://www.w3.org/2000/svg\" height=\"24px\" viewBox=\"0 -960 960 960\">\n",
              "    <path d=\"M120-120v-720h720v720H120Zm60-500h600v-160H180v160Zm220 220h160v-160H400v160Zm0 220h160v-160H400v160ZM180-400h160v-160H180v160Zm440 0h160v-160H620v160ZM180-180h160v-160H180v160Zm440 0h160v-160H620v160Z\"/>\n",
              "  </svg>\n",
              "    </button>\n",
              "\n",
              "  <style>\n",
              "    .colab-df-container {\n",
              "      display:flex;\n",
              "      gap: 12px;\n",
              "    }\n",
              "\n",
              "    .colab-df-convert {\n",
              "      background-color: #E8F0FE;\n",
              "      border: none;\n",
              "      border-radius: 50%;\n",
              "      cursor: pointer;\n",
              "      display: none;\n",
              "      fill: #1967D2;\n",
              "      height: 32px;\n",
              "      padding: 0 0 0 0;\n",
              "      width: 32px;\n",
              "    }\n",
              "\n",
              "    .colab-df-convert:hover {\n",
              "      background-color: #E2EBFA;\n",
              "      box-shadow: 0px 1px 2px rgba(60, 64, 67, 0.3), 0px 1px 3px 1px rgba(60, 64, 67, 0.15);\n",
              "      fill: #174EA6;\n",
              "    }\n",
              "\n",
              "    .colab-df-buttons div {\n",
              "      margin-bottom: 4px;\n",
              "    }\n",
              "\n",
              "    [theme=dark] .colab-df-convert {\n",
              "      background-color: #3B4455;\n",
              "      fill: #D2E3FC;\n",
              "    }\n",
              "\n",
              "    [theme=dark] .colab-df-convert:hover {\n",
              "      background-color: #434B5C;\n",
              "      box-shadow: 0px 1px 3px 1px rgba(0, 0, 0, 0.15);\n",
              "      filter: drop-shadow(0px 1px 2px rgba(0, 0, 0, 0.3));\n",
              "      fill: #FFFFFF;\n",
              "    }\n",
              "  </style>\n",
              "\n",
              "    <script>\n",
              "      const buttonEl =\n",
              "        document.querySelector('#df-1b5ab232-2512-4155-b38e-cc7df7ae7420 button.colab-df-convert');\n",
              "      buttonEl.style.display =\n",
              "        google.colab.kernel.accessAllowed ? 'block' : 'none';\n",
              "\n",
              "      async function convertToInteractive(key) {\n",
              "        const element = document.querySelector('#df-1b5ab232-2512-4155-b38e-cc7df7ae7420');\n",
              "        const dataTable =\n",
              "          await google.colab.kernel.invokeFunction('convertToInteractive',\n",
              "                                                    [key], {});\n",
              "        if (!dataTable) return;\n",
              "\n",
              "        const docLinkHtml = 'Like what you see? Visit the ' +\n",
              "          '<a target=\"_blank\" href=https://colab.research.google.com/notebooks/data_table.ipynb>data table notebook</a>'\n",
              "          + ' to learn more about interactive tables.';\n",
              "        element.innerHTML = '';\n",
              "        dataTable['output_type'] = 'display_data';\n",
              "        await google.colab.output.renderOutput(dataTable, element);\n",
              "        const docLink = document.createElement('div');\n",
              "        docLink.innerHTML = docLinkHtml;\n",
              "        element.appendChild(docLink);\n",
              "      }\n",
              "    </script>\n",
              "  </div>\n",
              "\n",
              "\n",
              "    <div id=\"df-c684b78c-8f7b-4e41-93c6-3c200f9ddade\">\n",
              "      <button class=\"colab-df-quickchart\" onclick=\"quickchart('df-c684b78c-8f7b-4e41-93c6-3c200f9ddade')\"\n",
              "                title=\"Suggest charts\"\n",
              "                style=\"display:none;\">\n",
              "\n",
              "<svg xmlns=\"http://www.w3.org/2000/svg\" height=\"24px\"viewBox=\"0 0 24 24\"\n",
              "     width=\"24px\">\n",
              "    <g>\n",
              "        <path d=\"M19 3H5c-1.1 0-2 .9-2 2v14c0 1.1.9 2 2 2h14c1.1 0 2-.9 2-2V5c0-1.1-.9-2-2-2zM9 17H7v-7h2v7zm4 0h-2V7h2v10zm4 0h-2v-4h2v4z\"/>\n",
              "    </g>\n",
              "</svg>\n",
              "      </button>\n",
              "\n",
              "<style>\n",
              "  .colab-df-quickchart {\n",
              "      --bg-color: #E8F0FE;\n",
              "      --fill-color: #1967D2;\n",
              "      --hover-bg-color: #E2EBFA;\n",
              "      --hover-fill-color: #174EA6;\n",
              "      --disabled-fill-color: #AAA;\n",
              "      --disabled-bg-color: #DDD;\n",
              "  }\n",
              "\n",
              "  [theme=dark] .colab-df-quickchart {\n",
              "      --bg-color: #3B4455;\n",
              "      --fill-color: #D2E3FC;\n",
              "      --hover-bg-color: #434B5C;\n",
              "      --hover-fill-color: #FFFFFF;\n",
              "      --disabled-bg-color: #3B4455;\n",
              "      --disabled-fill-color: #666;\n",
              "  }\n",
              "\n",
              "  .colab-df-quickchart {\n",
              "    background-color: var(--bg-color);\n",
              "    border: none;\n",
              "    border-radius: 50%;\n",
              "    cursor: pointer;\n",
              "    display: none;\n",
              "    fill: var(--fill-color);\n",
              "    height: 32px;\n",
              "    padding: 0;\n",
              "    width: 32px;\n",
              "  }\n",
              "\n",
              "  .colab-df-quickchart:hover {\n",
              "    background-color: var(--hover-bg-color);\n",
              "    box-shadow: 0 1px 2px rgba(60, 64, 67, 0.3), 0 1px 3px 1px rgba(60, 64, 67, 0.15);\n",
              "    fill: var(--button-hover-fill-color);\n",
              "  }\n",
              "\n",
              "  .colab-df-quickchart-complete:disabled,\n",
              "  .colab-df-quickchart-complete:disabled:hover {\n",
              "    background-color: var(--disabled-bg-color);\n",
              "    fill: var(--disabled-fill-color);\n",
              "    box-shadow: none;\n",
              "  }\n",
              "\n",
              "  .colab-df-spinner {\n",
              "    border: 2px solid var(--fill-color);\n",
              "    border-color: transparent;\n",
              "    border-bottom-color: var(--fill-color);\n",
              "    animation:\n",
              "      spin 1s steps(1) infinite;\n",
              "  }\n",
              "\n",
              "  @keyframes spin {\n",
              "    0% {\n",
              "      border-color: transparent;\n",
              "      border-bottom-color: var(--fill-color);\n",
              "      border-left-color: var(--fill-color);\n",
              "    }\n",
              "    20% {\n",
              "      border-color: transparent;\n",
              "      border-left-color: var(--fill-color);\n",
              "      border-top-color: var(--fill-color);\n",
              "    }\n",
              "    30% {\n",
              "      border-color: transparent;\n",
              "      border-left-color: var(--fill-color);\n",
              "      border-top-color: var(--fill-color);\n",
              "      border-right-color: var(--fill-color);\n",
              "    }\n",
              "    40% {\n",
              "      border-color: transparent;\n",
              "      border-right-color: var(--fill-color);\n",
              "      border-top-color: var(--fill-color);\n",
              "    }\n",
              "    60% {\n",
              "      border-color: transparent;\n",
              "      border-right-color: var(--fill-color);\n",
              "    }\n",
              "    80% {\n",
              "      border-color: transparent;\n",
              "      border-right-color: var(--fill-color);\n",
              "      border-bottom-color: var(--fill-color);\n",
              "    }\n",
              "    90% {\n",
              "      border-color: transparent;\n",
              "      border-bottom-color: var(--fill-color);\n",
              "    }\n",
              "  }\n",
              "</style>\n",
              "\n",
              "      <script>\n",
              "        async function quickchart(key) {\n",
              "          const quickchartButtonEl =\n",
              "            document.querySelector('#' + key + ' button');\n",
              "          quickchartButtonEl.disabled = true;  // To prevent multiple clicks.\n",
              "          quickchartButtonEl.classList.add('colab-df-spinner');\n",
              "          try {\n",
              "            const charts = await google.colab.kernel.invokeFunction(\n",
              "                'suggestCharts', [key], {});\n",
              "          } catch (error) {\n",
              "            console.error('Error during call to suggestCharts:', error);\n",
              "          }\n",
              "          quickchartButtonEl.classList.remove('colab-df-spinner');\n",
              "          quickchartButtonEl.classList.add('colab-df-quickchart-complete');\n",
              "        }\n",
              "        (() => {\n",
              "          let quickchartButtonEl =\n",
              "            document.querySelector('#df-c684b78c-8f7b-4e41-93c6-3c200f9ddade button');\n",
              "          quickchartButtonEl.style.display =\n",
              "            google.colab.kernel.accessAllowed ? 'block' : 'none';\n",
              "        })();\n",
              "      </script>\n",
              "    </div>\n",
              "\n",
              "    </div>\n",
              "  </div>\n"
            ],
            "application/vnd.google.colaboratory.intrinsic+json": {
              "type": "dataframe",
              "variable_name": "Data"
            }
          },
          "metadata": {},
          "execution_count": 5
        }
      ]
    },
    {
      "cell_type": "code",
      "source": [
        "Data = Data.drop(columns='LoanID')\n",
        "\n",
        "print(\"Updated Data Shape:\", Data.shape)"
      ],
      "metadata": {
        "colab": {
          "base_uri": "https://localhost:8080/"
        },
        "id": "a8uET0cO_4Ko",
        "outputId": "25d7b95e-77a4-4464-b948-9ed1fb71089c"
      },
      "execution_count": 6,
      "outputs": [
        {
          "output_type": "stream",
          "name": "stdout",
          "text": [
            "Updated Data Shape: (150936, 17)\n"
          ]
        }
      ]
    },
    {
      "cell_type": "code",
      "source": [
        "num = Data.select_dtypes(include=['int', 'float'])\n",
        "\n",
        "print(\"Selected Numerical Features:\", num.columns.tolist())"
      ],
      "metadata": {
        "colab": {
          "base_uri": "https://localhost:8080/"
        },
        "id": "MFE-cxlAAVsZ",
        "outputId": "eb4d07d4-39fb-4c15-847f-ad3c2aa16c73"
      },
      "execution_count": 7,
      "outputs": [
        {
          "output_type": "stream",
          "name": "stdout",
          "text": [
            "Selected Numerical Features: ['Age', 'Income', 'LoanAmount', 'CreditScore', 'MonthsEmployed', 'NumCreditLines', 'InterestRate', 'LoanTerm', 'DTIRatio', 'Default']\n"
          ]
        }
      ]
    },
    {
      "cell_type": "code",
      "source": [
        "def ColumnTrans(cat):\n",
        "    for column in cat.columns:\n",
        "        # Get unique values for the column\n",
        "        unique_values = cat[column].unique()\n",
        "\n",
        "        # Create a mapping of each unique value to a corresponding integer\n",
        "        value_map = {value: index for index, value in enumerate(unique_values)}\n",
        "\n",
        "        # Map the column's categorical values to their integer indices\n",
        "        cat[column] = cat[column].map(value_map)\n",
        "\n",
        "    return cat"
      ],
      "metadata": {
        "id": "QRhW5mZ0AXz0"
      },
      "execution_count": 8,
      "outputs": []
    },
    {
      "cell_type": "code",
      "source": [
        "cat = Data.select_dtypes(include='object')\n",
        "\n",
        "# Apply the custom ColumnTrans function to transform categorical columns into numerical format.\n",
        "cat = ColumnTrans(cat)\n",
        "\n",
        "# Verify the transformation by displaying the first few rows of the transformed categorical data.\n",
        "print(\"Transformed Categorical Columns (first few rows):\")\n",
        "print(cat.head())"
      ],
      "metadata": {
        "colab": {
          "base_uri": "https://localhost:8080/"
        },
        "id": "mUTjLfVTAaLb",
        "outputId": "89dc31d2-e167-47ae-ec35-51c6262ca629"
      },
      "execution_count": 9,
      "outputs": [
        {
          "output_type": "stream",
          "name": "stdout",
          "text": [
            "Transformed Categorical Columns (first few rows):\n",
            "   Education  EmploymentType  MaritalStatus  HasMortgage  HasDependents  \\\n",
            "0          0               0              0            0              0   \n",
            "1          1               0              1            1              1   \n",
            "2          1               1              0            0              0   \n",
            "3          2               0              1            1              1   \n",
            "4          0               1              0            1              0   \n",
            "\n",
            "   LoanPurpose  HasCoSigner  \n",
            "0            0            0  \n",
            "1            0            0  \n",
            "2            1            1  \n",
            "3            2            1  \n",
            "4            1            1  \n"
          ]
        }
      ]
    },
    {
      "cell_type": "code",
      "source": [
        "df = pd.concat([num, cat], axis=1)\n",
        "\n",
        "# Verify the combined DataFrame by displaying the first few rows.\n",
        "print(\"Combined DataFrame (first few rows):\")\n",
        "print(df.head())"
      ],
      "metadata": {
        "colab": {
          "base_uri": "https://localhost:8080/"
        },
        "id": "fDIjRnqdAcjI",
        "outputId": "a4b62dec-876a-45c3-9cb2-a4362723b4e5"
      },
      "execution_count": 10,
      "outputs": [
        {
          "output_type": "stream",
          "name": "stdout",
          "text": [
            "Combined DataFrame (first few rows):\n",
            "   Age  Income  LoanAmount  CreditScore  MonthsEmployed  NumCreditLines  \\\n",
            "0   56   85994       50587          520              80               4   \n",
            "1   69   50432      124440          458              15               1   \n",
            "2   46   84208      129188          451              26               3   \n",
            "3   32   31713       44799          743               0               3   \n",
            "4   60   20437        9139          633               8               4   \n",
            "\n",
            "   InterestRate  LoanTerm  DTIRatio  Default  Education  EmploymentType  \\\n",
            "0         15.23        36      0.44      0.0          0               0   \n",
            "1          4.81        60      0.68      0.0          1               0   \n",
            "2         21.17        24      0.31      1.0          1               1   \n",
            "3          7.07        24      0.23      0.0          2               0   \n",
            "4          6.51        48      0.73      0.0          0               1   \n",
            "\n",
            "   MaritalStatus  HasMortgage  HasDependents  LoanPurpose  HasCoSigner  \n",
            "0              0            0              0            0            0  \n",
            "1              1            1              1            0            0  \n",
            "2              0            0              0            1            1  \n",
            "3              1            1              1            2            1  \n",
            "4              0            1              0            1            1  \n"
          ]
        }
      ]
    },
    {
      "cell_type": "code",
      "source": [
        "x1 = df.drop(columns='Default')  # Features: All columns except 'Default'\n",
        "y1 = df['Default']  # Target: 'Default' column\n",
        "\n",
        "# Verify the separation by displaying the shapes of the features and target.\n",
        "print(\"Shape of Features (X):\", x1.shape)\n",
        "print(\"Shape of Target (y):\", y1.shape)"
      ],
      "metadata": {
        "colab": {
          "base_uri": "https://localhost:8080/"
        },
        "id": "oQfjejvxAfY5",
        "outputId": "03154e2e-fbbd-4ea6-f716-a32e5876b700"
      },
      "execution_count": 11,
      "outputs": [
        {
          "output_type": "stream",
          "name": "stdout",
          "text": [
            "Shape of Features (X): (150936, 16)\n",
            "Shape of Target (y): (150936,)\n"
          ]
        }
      ]
    },
    {
      "cell_type": "code",
      "source": [
        "ros = RandomOverSampler()  # Random Over-Sampling to balance the dataset by increasing the minority class.\n",
        "rus = RandomUnderSampler()  # Random Under-Sampling to balance the dataset by decreasing the majority class.\n",
        "smote = SMOTE()  # SMOTE (Synthetic Minority Over-sampling Technique) to generate synthetic examples for the minority class.\n",
        "\n",
        "# Verify that the resampling methods are correctly initialized\n",
        "print(\"Resampling techniques initialized:\")\n",
        "print(\"RandomOverSampler:\", ros)\n",
        "print(\"RandomUnderSampler:\", rus)\n",
        "print(\"SMOTE:\", smote)"
      ],
      "metadata": {
        "colab": {
          "base_uri": "https://localhost:8080/"
        },
        "id": "3V7TumrLAh9m",
        "outputId": "f3392cb6-054f-49b3-f422-57a7b63f1b3f"
      },
      "execution_count": 12,
      "outputs": [
        {
          "output_type": "stream",
          "name": "stdout",
          "text": [
            "Resampling techniques initialized:\n",
            "RandomOverSampler: RandomOverSampler()\n",
            "RandomUnderSampler: RandomUnderSampler()\n",
            "SMOTE: SMOTE()\n"
          ]
        }
      ]
    },
    {
      "cell_type": "code",
      "source": [
        "# Remove rows with NaN values in the target variable\n",
        "df_cleaned = df.dropna(subset=['Default'])\n",
        "\n",
        "x1 = df_cleaned.drop(columns='Default')  # Features: All columns except 'Default'\n",
        "y1 = df_cleaned['Default']  # Target: 'Default' column\n",
        "\n",
        "ros = RandomOverSampler()  # Random Over-Sampling to balance the dataset by increasing the minority class.\n",
        "rus = RandomUnderSampler()  # Random Under-Sampling to balance the dataset by decreasing the majority class.\n",
        "smote = SMOTE()  # SMOTE (Synthetic Minority Over-sampling Technique) to generate synthetic examples for the minority class.\n",
        "\n",
        "x2, y2 = ros.fit_resample(x1, y1)\n",
        "print(\"Shape after RandomOverSampler (ROS):\", x2.shape, y2.shape)\n",
        "\n",
        "# Apply SMOTE to generate synthetic samples for the minority class\n",
        "x3, y3 = smote.fit_resample(x2, y2)\n",
        "print(\"Shape after SMOTE:\", x3.shape, y3.shape)\n",
        "\n",
        "# Apply Random Under-Sampling to decrease the majority class\n",
        "x, y = rus.fit_resample(x3, y3)\n",
        "print(\"Shape after RandomUnderSampler (RUS):\", x.shape, y.shape)\n",
        "\n",
        "# Final balanced dataset\n",
        "print(\"Final Balanced Dataset Shape (X):\", x.shape)\n",
        "print(\"Final Balanced Dataset Shape (Y):\", y.shape)"
      ],
      "metadata": {
        "colab": {
          "base_uri": "https://localhost:8080/"
        },
        "id": "pIgSEMR3Akkp",
        "outputId": "574dd909-9629-44df-ed22-d9fd103302d6"
      },
      "execution_count": 15,
      "outputs": [
        {
          "output_type": "stream",
          "name": "stdout",
          "text": [
            "Shape after RandomOverSampler (ROS): (267064, 16) (267064,)\n",
            "Shape after SMOTE: (267064, 16) (267064,)\n",
            "Shape after RandomUnderSampler (RUS): (267064, 16) (267064,)\n",
            "Final Balanced Dataset Shape (X): (267064, 16)\n",
            "Final Balanced Dataset Shape (Y): (267064,)\n"
          ]
        }
      ]
    },
    {
      "cell_type": "code",
      "source": [
        "x_train, x_test, y_train, y_test = train_test_split(x, y, test_size=0.2, random_state=42)\n",
        "\n",
        "# Display the shapes of the resulting datasets to verify the split\n",
        "print(\"Shape of Training Features (X_train):\", x_train.shape)\n",
        "print(\"Shape of Testing Features (X_test):\", x_test.shape)\n",
        "print(\"Shape of Training Target (y_train):\", y_train.shape)\n",
        "print(\"Shape of Testing Target (y_test):\", y_test.shape)"
      ],
      "metadata": {
        "colab": {
          "base_uri": "https://localhost:8080/"
        },
        "id": "h9hiIBGzAm3h",
        "outputId": "75e847c2-c379-464a-e77d-f66a632e5491"
      },
      "execution_count": 16,
      "outputs": [
        {
          "output_type": "stream",
          "name": "stdout",
          "text": [
            "Shape of Training Features (X_train): (213651, 16)\n",
            "Shape of Testing Features (X_test): (53413, 16)\n",
            "Shape of Training Target (y_train): (213651,)\n",
            "Shape of Testing Target (y_test): (53413,)\n"
          ]
        }
      ]
    },
    {
      "cell_type": "code",
      "source": [
        "model = RandomForestClassifier(n_estimators=2000, random_state=42)\n",
        "\n",
        "# Display the model's parameters to verify the configuration\n",
        "print(\"Random Forest Classifier initialized with parameters:\")\n",
        "print(model)"
      ],
      "metadata": {
        "colab": {
          "base_uri": "https://localhost:8080/"
        },
        "id": "WFMd5LrQApaJ",
        "outputId": "22c5171c-7227-479c-e4e9-6595e9f7550b"
      },
      "execution_count": 17,
      "outputs": [
        {
          "output_type": "stream",
          "name": "stdout",
          "text": [
            "Random Forest Classifier initialized with parameters:\n",
            "RandomForestClassifier(n_estimators=2000, random_state=42)\n"
          ]
        }
      ]
    },
    {
      "cell_type": "code",
      "source": [
        "print(\"Model training complete with Random Forest Classifier.\")\n",
        "model.fit(x_train, y_train)\n",
        "\n",
        "# Display a message to indicate that training is complete\n",
        "print(\"Model training complete with Random Forest Classifier.\")"
      ],
      "metadata": {
        "colab": {
          "base_uri": "https://localhost:8080/"
        },
        "id": "anHssE8pAroD",
        "outputId": "2972448b-057c-4a9c-b850-69f6f0075932"
      },
      "execution_count": 18,
      "outputs": [
        {
          "output_type": "stream",
          "name": "stdout",
          "text": [
            "Model training complete with Random Forest Classifier.\n",
            "Model training complete with Random Forest Classifier.\n"
          ]
        }
      ]
    },
    {
      "cell_type": "code",
      "source": [
        "prediction = model.predict(x_test)\n",
        "\n",
        "# Display the shape of the predictions to verify\n",
        "print(\"Shape of predictions:\", prediction.shape)\n"
      ],
      "metadata": {
        "colab": {
          "base_uri": "https://localhost:8080/"
        },
        "id": "B01Pkcf5At_0",
        "outputId": "0ce37c4d-b3b6-4ce7-f0df-71ccb1356733"
      },
      "execution_count": 19,
      "outputs": [
        {
          "output_type": "stream",
          "name": "stdout",
          "text": [
            "Shape of predictions: (53413,)\n"
          ]
        }
      ]
    },
    {
      "cell_type": "code",
      "source": [
        "(prediction == 0).sum()"
      ],
      "metadata": {
        "colab": {
          "base_uri": "https://localhost:8080/"
        },
        "id": "NVvUd3cHxgXL",
        "outputId": "154ce8b1-ea1d-4421-df94-f32af6eb5d3f"
      },
      "execution_count": 20,
      "outputs": [
        {
          "output_type": "execute_result",
          "data": {
            "text/plain": [
              "np.int64(26181)"
            ]
          },
          "metadata": {},
          "execution_count": 20
        }
      ]
    },
    {
      "cell_type": "code",
      "source": [
        "(prediction == 1).sum()"
      ],
      "metadata": {
        "colab": {
          "base_uri": "https://localhost:8080/"
        },
        "id": "7Eh3rKms4A4M",
        "outputId": "bd756336-ee5f-43f2-e485-97c2114de616"
      },
      "execution_count": 21,
      "outputs": [
        {
          "output_type": "execute_result",
          "data": {
            "text/plain": [
              "np.int64(27232)"
            ]
          },
          "metadata": {},
          "execution_count": 21
        }
      ]
    },
    {
      "cell_type": "code",
      "source": [
        "# Import the evaluation metrics from sklearn\n",
        "from sklearn.metrics import precision_score, recall_score, f1_score, accuracy_score\n",
        "\n",
        "# Calculate accuracy, precision, recall, and F1 score\n",
        "accuracy = accuracy_score(y_test, prediction)\n",
        "precision = precision_score(y_test, prediction)\n",
        "recall = recall_score(y_test, prediction)\n",
        "f1 = f1_score(y_test, prediction)\n",
        "\n",
        "# Display the metrics\n",
        "print(f\"Accuracy: {accuracy:.4f}\")\n",
        "print(f\"Precision: {precision:.4f}\")\n",
        "print(f\"Recall: {recall:.4f}\")\n",
        "print(f\"F1 Score: {f1:.4f}\")"
      ],
      "metadata": {
        "colab": {
          "base_uri": "https://localhost:8080/"
        },
        "id": "KeWmPilt4DHi",
        "outputId": "4a760679-c9bb-427a-e9ab-0655a36f3190"
      },
      "execution_count": 22,
      "outputs": [
        {
          "output_type": "stream",
          "name": "stdout",
          "text": [
            "Accuracy: 0.9909\n",
            "Precision: 0.9833\n",
            "Recall: 0.9988\n",
            "F1 Score: 0.9910\n"
          ]
        }
      ]
    },
    {
      "cell_type": "code",
      "source": [],
      "metadata": {
        "id": "78b61Ty_4Ffw"
      },
      "execution_count": null,
      "outputs": []
    }
  ]
}